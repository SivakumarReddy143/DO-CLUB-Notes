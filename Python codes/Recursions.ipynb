{
 "cells": [
  {
   "cell_type": "markdown",
   "metadata": {},
   "source": [
    "***Recursive functions***"
   ]
  },
  {
   "cell_type": "markdown",
   "metadata": {},
   "source": [
    "* A recursive function is a function that **calls itself** in its definition.\n",
    "* Recursion is a key concept in programming and allows problems to be broken down into simpler sub-problems, making it    useful for situations where the solution has a **repetitive**, **self-similar structure** (like tree traversal, factorial calculation, or Fibonacci series generation).\n",
    "* Example for a *factorial* function written in a recursive function :"
   ]
  },
  {
   "cell_type": "code",
   "execution_count": 2,
   "metadata": {},
   "outputs": [
    {
     "data": {
      "text/plain": [
       "120"
      ]
     },
     "execution_count": 2,
     "metadata": {},
     "output_type": "execute_result"
    }
   ],
   "source": [
    "def factorial(n):\n",
    "    #n here should be an integer\n",
    "    if n == 0:\n",
    "        return 1\n",
    "    else:\n",
    "        return n*factorial(n-1)\n",
    "factorial(5)"
   ]
  },
  {
   "cell_type": "markdown",
   "metadata": {},
   "source": [
    "* **Key things to follow in Recursions**  \n",
    "  * **Base Case:**  \n",
    "    * It is a condition within the recursive function that stops further recursion.  \n",
    "    * Without a base case, the function would keep calling itself indefinitely, leading to a stack overflow error.  \n",
    "    * Ex: `factorial(0)` in the above program.  \n",
    "  * **Recursive Case:**  \n",
    "    * The recursive case is where the function calls itself with a smaller or simpler input, moving closer to the base case.  \n",
    "    * Each recursive call reduces the problem size or complexity until it reaches the base case.  \n",
    "    * Ex: `factorial(n) = n * factorial(n - 1)`  \n",
    "  * **Stack Memory and Call Stack:**  \n",
    "    * Recursive calls are stored in the call stack until they reach the base case.  \n",
    "    * Each call waits for its subsequent call to finish and return a result.  \n",
    "    * Once the base case returns a result, each stacked call is resolved in a \"last in, first out\" order.  \n"
   ]
  },
  {
   "cell_type": "markdown",
   "metadata": {},
   "source": [
    "* **Advantages of Recursion**<br>\n",
    "    * Recursion can make code simpler and easier to understand for problems with self-similar structures.<br>\n",
    "    * It is ideal for problems that can naturally be divided into smaller sub-problems.<br>\n",
    "* **Disadvantages of Recursion**\n",
    "    * Recursive functions can be memory-intensive due to call stack usage.\n",
    "    * They can be less efficient than iterative solutions for large inputs due to repeated calculations (e.g., in the naive Fibonacci solution).\n",
    "    * If improperly structured, they may result in infinite recursion."
   ]
  },
  {
   "cell_type": "markdown",
   "metadata": {},
   "source": [
    "* **Examples of Recursion**\n",
    "<pre><b>\n",
    "    1)Sum of n natural numbers\n",
    "    2)Factorial\n",
    "    3)Fibonacci\n",
    "    4)Sum of Array Elements\n",
    "    5)Binary Search\n",
    "    </b>"
   ]
  },
  {
   "cell_type": "markdown",
   "metadata": {},
   "source": [
    "<b>1)Sum of n natural numbers"
   ]
  },
  {
   "cell_type": "code",
   "execution_count": 19,
   "metadata": {},
   "outputs": [
    {
     "data": {
      "text/plain": [
       "15"
      ]
     },
     "execution_count": 19,
     "metadata": {},
     "output_type": "execute_result"
    }
   ],
   "source": [
    "def nat(n):\n",
    "    if n<=1:\n",
    "        return n\n",
    "    else:\n",
    "        return n+nat(n-1)\n",
    "nat(5)"
   ]
  },
  {
   "cell_type": "markdown",
   "metadata": {},
   "source": [
    "<b>3)Fibonacci Series"
   ]
  },
  {
   "cell_type": "code",
   "execution_count": null,
   "metadata": {},
   "outputs": [
    {
     "data": {
      "text/plain": [
       "13"
      ]
     },
     "execution_count": 12,
     "metadata": {},
     "output_type": "execute_result"
    }
   ],
   "source": [
    "def fibonacci(n):\n",
    "    if n<=1:\n",
    "        return n\n",
    "    else:\n",
    "        return fibonacci(n-1)+fibonacci(n-2)\n",
    "fibonacci(7)\n",
    "        "
   ]
  },
  {
   "cell_type": "markdown",
   "metadata": {},
   "source": [
    "<b>4)Sum of Array Elements"
   ]
  },
  {
   "cell_type": "code",
   "execution_count": 18,
   "metadata": {},
   "outputs": [
    {
     "data": {
      "text/plain": [
       "15"
      ]
     },
     "execution_count": 18,
     "metadata": {},
     "output_type": "execute_result"
    }
   ],
   "source": [
    "def sum_of_array(arr):\n",
    "    if len(arr)==0:\n",
    "        return 0\n",
    "    elif len(arr)==1:\n",
    "        return arr[0]\n",
    "    else:\n",
    "        return sum_of_array(arr[1::]) + arr[0]\n",
    "arr=[1,2,3,4,5]\n",
    "sum_of_array(arr)\n"
   ]
  },
  {
   "cell_type": "markdown",
   "metadata": {},
   "source": [
    "<b>5)Binary Search Using Recursions "
   ]
  },
  {
   "cell_type": "code",
   "execution_count": 17,
   "metadata": {},
   "outputs": [
    {
     "name": "stdout",
     "output_type": "stream",
     "text": [
      "3\n"
     ]
    }
   ],
   "source": [
    "\n",
    "\n",
    "def binary_search(arr, low, high, target):\n",
    "    if high >= low:\n",
    "        mid = (high + low) // 2\n",
    "        if arr[mid] == target:  \n",
    "            return mid\n",
    "        elif arr[mid] > target:\n",
    "            return binary_search(arr, low, mid - 1, target) \n",
    "        else:\n",
    "            return binary_search(arr, mid + 1, high, target)  \n",
    "        return -1 \n",
    "\n",
    "arr = [2, 3, 4, 10, 40]\n",
    "target = 10\n",
    "print(binary_search(arr, 0, len(arr) - 1, target))  \n"
   ]
  }
 ],
 "metadata": {
  "kernelspec": {
   "display_name": "Python 3",
   "language": "python",
   "name": "python3"
  },
  "language_info": {
   "codemirror_mode": {
    "name": "ipython",
    "version": 3
   },
   "file_extension": ".py",
   "mimetype": "text/x-python",
   "name": "python",
   "nbconvert_exporter": "python",
   "pygments_lexer": "ipython3",
   "version": "3.12.5"
  }
 },
 "nbformat": 4,
 "nbformat_minor": 2
}

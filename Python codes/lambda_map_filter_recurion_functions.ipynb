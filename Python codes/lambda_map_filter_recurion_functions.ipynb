{
  "nbformat": 4,
  "nbformat_minor": 0,
  "metadata": {
    "colab": {
      "provenance": []
    },
    "kernelspec": {
      "name": "python3",
      "display_name": "Python 3"
    },
    "language_info": {
      "name": "python"
    }
  },
  "cells": [
    {
      "cell_type": "markdown",
      "source": [
        "##lamba Function\n",
        "Lambda functions are small anonymous functions defined using the __lambda__ keyword\n",
        "\n",
        "They can have any number of arguments but only one expression\n",
        "They are commonly used for simple operations or as arguments to higher- order functions"
      ],
      "metadata": {
        "id": "LD6QemW3aIme"
      }
    },
    {
      "cell_type": "code",
      "source": [
        "#Syntax\n",
        "lambda arguments: expression\n",
        "def add(a,b):\n",
        "  return a+b\n",
        "add(2,3)\n"
      ],
      "metadata": {
        "colab": {
          "base_uri": "https://localhost:8080/"
        },
        "id": "irDpt-vRBHrJ",
        "outputId": "5eda8559-a560-425b-dd34-d809e6bcf05d"
      },
      "execution_count": null,
      "outputs": [
        {
          "output_type": "execute_result",
          "data": {
            "text/plain": [
              "5"
            ]
          },
          "metadata": {},
          "execution_count": 2
        }
      ]
    },
    {
      "cell_type": "code",
      "source": [],
      "metadata": {
        "colab": {
          "base_uri": "https://localhost:8080/"
        },
        "id": "Hmgymwa4Bl1z",
        "outputId": "256c7550-e06c-4852-8041-bff7166fac6e"
      },
      "execution_count": null,
      "outputs": [
        {
          "output_type": "execute_result",
          "data": {
            "text/plain": [
              "5"
            ]
          },
          "metadata": {},
          "execution_count": 4
        }
      ]
    },
    {
      "cell_type": "code",
      "source": [
        "#even\n",
        "def even(num):\n",
        "  if num%2==0:\n",
        "    return True\n",
        "  else:\n",
        "    return False\n",
        "even(3)"
      ],
      "metadata": {
        "colab": {
          "base_uri": "https://localhost:8080/"
        },
        "id": "Q0e1qra6Bq8A",
        "outputId": "a29acbbd-dd5e-44be-b33e-f9e26e9f3d3c"
      },
      "execution_count": null,
      "outputs": [
        {
          "output_type": "execute_result",
          "data": {
            "text/plain": [
              "False"
            ]
          },
          "metadata": {},
          "execution_count": 3
        }
      ]
    },
    {
      "cell_type": "code",
      "source": [],
      "metadata": {
        "id": "UERucGbVCTZ5"
      },
      "execution_count": null,
      "outputs": []
    },
    {
      "cell_type": "markdown",
      "source": [
        "###map() Function\n",
        "The map function applies a given function to all items in an input list(or any other iterable) and returns a map object (an iterator).\n",
        "useful for transforming data in a list comprehensively."
      ],
      "metadata": {
        "id": "9oRF2mEM_Orb"
      }
    },
    {
      "cell_type": "code",
      "source": [
        "#map(func,*iterable)\n",
        "def square(num):\n",
        "  return num**2\n",
        "square(1)\n"
      ],
      "metadata": {
        "colab": {
          "base_uri": "https://localhost:8080/"
        },
        "id": "ImXMmKYVDtia",
        "outputId": "dff18250-6015-4058-c52d-16fd8a8eb874"
      },
      "execution_count": null,
      "outputs": [
        {
          "output_type": "execute_result",
          "data": {
            "text/plain": [
              "1"
            ]
          },
          "metadata": {},
          "execution_count": 7
        }
      ]
    },
    {
      "cell_type": "code",
      "source": [],
      "metadata": {
        "id": "yQmuzrm9EK46"
      },
      "execution_count": null,
      "outputs": []
    },
    {
      "cell_type": "code",
      "source": [],
      "metadata": {
        "id": "KVx8lA1eEqi4"
      },
      "execution_count": null,
      "outputs": []
    },
    {
      "cell_type": "code",
      "source": [
        "#using lambda function with map\n"
      ],
      "metadata": {
        "id": "h756OVGOEvHB"
      },
      "execution_count": null,
      "outputs": []
    },
    {
      "cell_type": "code",
      "source": [
        "#map() with  mutliple iterable"
      ],
      "metadata": {
        "id": "NxdOK128FcCy"
      },
      "execution_count": null,
      "outputs": []
    },
    {
      "cell_type": "code",
      "source": [
        "##map() to convert a list of strings tp integers\n",
        "##use to convert strings to integers"
      ],
      "metadata": {
        "id": "BbIUUUn0Feoj"
      },
      "execution_count": null,
      "outputs": []
    },
    {
      "cell_type": "markdown",
      "source": [
        "##conclusion\n",
        "The map() function is a powerful tool for apppling transformations to iterable data structures.It can be used with regular functions, Lambda functions, and even multiple iterables , providing a versatile approach to data processing in python.By understanding and utilizing map(), you can write more efficient and readable code."
      ],
      "metadata": {
        "id": "DNnqVbvBGSG7"
      }
    },
    {
      "cell_type": "markdown",
      "source": [
        "##filter() function\n",
        "The filter() function constructs an iterator from elements of an iterable for which a function returns True. It is used to filter out items from a list(or any other iterable) based on the condition."
      ],
      "metadata": {
        "id": "6Y1jDhz6HF8L"
      }
    },
    {
      "cell_type": "code",
      "source": [
        "def even(num):\n",
        "  if num%2==0:\n",
        "    return True\n",
        "  else:\n",
        "    return False\n",
        "even(4)"
      ],
      "metadata": {
        "colab": {
          "base_uri": "https://localhost:8080/"
        },
        "id": "U2JaMY9KFe-h",
        "outputId": "8983e166-8dba-48b3-9e9f-09c5f288445b"
      },
      "execution_count": null,
      "outputs": [
        {
          "output_type": "execute_result",
          "data": {
            "text/plain": [
              "True"
            ]
          },
          "metadata": {},
          "execution_count": 11
        }
      ]
    },
    {
      "cell_type": "code",
      "source": [
        "lst=[1,2,3,4,5,6,7,8,9,10]\n",
        "filter(even,lst)"
      ],
      "metadata": {
        "colab": {
          "base_uri": "https://localhost:8080/"
        },
        "id": "AYO_OZKgFfWh",
        "outputId": "211f7e44-9dc7-4757-cac9-356014c0af21"
      },
      "execution_count": null,
      "outputs": [
        {
          "output_type": "execute_result",
          "data": {
            "text/plain": [
              "<filter at 0x7c9d31a39b40>"
            ]
          },
          "metadata": {},
          "execution_count": 12
        }
      ]
    },
    {
      "cell_type": "code",
      "source": [
        "list(filter(even,lst))"
      ],
      "metadata": {
        "colab": {
          "base_uri": "https://localhost:8080/"
        },
        "id": "aXBiNZ3KFf1R",
        "outputId": "f19dc59e-2dc2-4bc6-ab56-d8a05d852708"
      },
      "execution_count": null,
      "outputs": [
        {
          "output_type": "execute_result",
          "data": {
            "text/plain": [
              "[2, 4, 6, 8, 10]"
            ]
          },
          "metadata": {},
          "execution_count": 13
        }
      ]
    },
    {
      "cell_type": "code",
      "source": [
        "#filter with lambda function"
      ],
      "metadata": {
        "id": "6qdo4-u_FgE5"
      },
      "execution_count": null,
      "outputs": []
    },
    {
      "cell_type": "code",
      "source": [
        "#filter with a lambda function and multiple conditions"
      ],
      "metadata": {
        "id": "H2P4N9FAIbPZ"
      },
      "execution_count": null,
      "outputs": []
    },
    {
      "cell_type": "code",
      "source": [
        "#filter() to check if the age is greater than 25 in dict"
      ],
      "metadata": {
        "id": "yLp0eaLIIbo2"
      },
      "execution_count": null,
      "outputs": []
    },
    {
      "cell_type": "markdown",
      "source": [
        "##Conclusion\n",
        "The filter() is a powerful tool for creating iterators that filter items out of an iterable based on a function.It is commonly used for data cleaning,filtering objects and removing unwanted elements from lists .By mastering filter(), you can write more concise and efficient code for processing and manipulating collections in python"
      ],
      "metadata": {
        "id": "uFHzTTijI6Wh"
      }
    },
    {
      "cell_type": "markdown",
      "source": [
        "###Recursion\n",
        "Recursive function:\n",
        "A recursive function is a function that calls itself in its definition"
      ],
      "metadata": {
        "id": "WdL8iK8pJs2C"
      }
    },
    {
      "cell_type": "code",
      "source": [
        "def fact(n):\n",
        "  if n==0:\n",
        "    return 1\n",
        "  else:\n",
        "    return n*fact(n-1)\n",
        "fact(3)"
      ],
      "metadata": {
        "colab": {
          "base_uri": "https://localhost:8080/"
        },
        "id": "gh3FSwwDIb_h",
        "outputId": "918a08ee-2802-4943-9bf7-36dbfc66ec43"
      },
      "execution_count": null,
      "outputs": [
        {
          "output_type": "execute_result",
          "data": {
            "text/plain": [
              "6"
            ]
          },
          "metadata": {},
          "execution_count": 14
        }
      ]
    },
    {
      "cell_type": "code",
      "source": [
        "#Recursive lambda using assigned variable\n",
        "lambda_factorial = lambda n:1 if n==0 else n*lambda_factorial(n-1)\n",
        "lambda_factorial(3)"
      ],
      "metadata": {
        "colab": {
          "base_uri": "https://localhost:8080/"
        },
        "id": "pO6tpy0CKTIK",
        "outputId": "01e83394-3c4e-4fa0-a026-7dac7003b6f8"
      },
      "execution_count": null,
      "outputs": [
        {
          "output_type": "execute_result",
          "data": {
            "text/plain": [
              "6"
            ]
          },
          "metadata": {},
          "execution_count": 15
        }
      ]
    },
    {
      "cell_type": "code",
      "source": [
        "# prompt: factorilal program without using recursion\n",
        "\n",
        "def factorial(n):\n",
        "  \"\"\"\n",
        "  Calculates the factorial of a non-negative integer without recursion.\n",
        "  \"\"\"\n",
        "  if n < 0:\n",
        "    return \"Factorial is not defined for negative numbers\"\n",
        "  elif n == 0:\n",
        "    return 1\n",
        "  else:\n",
        "    result = 1\n",
        "    for i in range(1, n + 1):\n",
        "      result *= i\n",
        "    return result\n",
        "\n",
        "# Get input from the user\n",
        "num = int(input(\"Enter a non-negative integer: \"))\n",
        "\n",
        "# Calculate and print the factorial\n",
        "print(\"The factorial of\", num, \"is\", factorial(num))"
      ],
      "metadata": {
        "id": "G0F2ROcNKtQx"
      },
      "execution_count": null,
      "outputs": []
    },
    {
      "cell_type": "code",
      "source": [
        "# prompt: factorilal program without using recursion and without  function\n",
        "\n",
        "num = int(input(\"Enter a non-negative integer: \"))\n",
        "\n",
        "if num < 0:\n",
        "  print(\"Factorial is not defined for negative numbers\")\n",
        "elif num == 0:\n",
        "  print(\"The factorial of 0 is 1\")\n",
        "else:\n",
        "  factorial = 1\n",
        "  for i in range(1, num + 1):\n",
        "    factorial *= i\n",
        "  print(\"The factorial of\", num, \"is\", factorial)"
      ],
      "metadata": {
        "id": "oscxf3yCLIWp"
      },
      "execution_count": null,
      "outputs": []
    }
  ]
}